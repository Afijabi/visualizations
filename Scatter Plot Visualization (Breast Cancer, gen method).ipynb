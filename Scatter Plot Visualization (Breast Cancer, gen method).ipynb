{
 "cells": [
  {
   "cell_type": "code",
   "execution_count": 1,
   "id": "93ce1509",
   "metadata": {},
   "outputs": [],
   "source": [
    "import pandas as pd\n",
    "import numpy as np\n",
    "import seaborn as sb\n",
    "import matplotlib.pyplot as plt\n",
    "import plotly.express as px\n",
    "import csv\n",
    "import statistics\n",
    "from pandas.api.types import CategoricalDtype"
   ]
  },
  {
   "cell_type": "code",
   "execution_count": 2,
   "id": "ffb3c97e",
   "metadata": {},
   "outputs": [],
   "source": [
    "# Sequence class labels for data sets\n",
    "\n",
    "names = open(\"cnames.tsv\")\n",
    "names1 = csv.reader(names, delimiter=\"\\t\")\n",
    "seq_names = pd.DataFrame(names1)\n",
    "\n",
    "new_header = seq_names.iloc[0]\n",
    "seq_names= seq_names[1:] \n",
    "seq_names.columns = new_header \n",
    "seq_names['ID'] = seq_names['ID'].astype(str) + \" \" + seq_names['name'].astype(str)\n",
    "seq_names['index'] = seq_names['index'].astype(int)\n",
    "\n",
    "seq_names_original = seq_names.sort_values(by = \"index\")\n",
    "\n",
    "labels = (seq_names_original[\"ID\"].astype(str)).tolist()\n",
    "labels_reordered = (seq_names[\"ID\"].astype(str)).tolist()"
   ]
  },
  {
   "cell_type": "code",
   "execution_count": 3,
   "id": "8d16aff7",
   "metadata": {},
   "outputs": [],
   "source": [
    "# Load and Set-up Breast Cancer Dataset\n",
    "\n",
    "data = pd.DataFrame(np.load(\"breast_cancer.finemapping.sc_scores.npy\")).iloc[:, 0:40]\n",
    "data.columns = labels\n",
    "data = data[labels_reordered]\n",
    "bc_labels = csv.reader(open(\"breast_cancer.finemapping.row_labels.txt\"), delimiter=\"\\t\")\n",
    "bc_labels1 = pd.DataFrame(bc_labels)\n",
    "new_header1 = bc_labels1.iloc[0]\n",
    "bc_labels1 = bc_labels1[1:]\n",
    "bc_labels1.columns = new_header1\n",
    "bc_labels1 = bc_labels1.reset_index()\n",
    "df1 = bc_labels1.join(data, how='outer').set_index('name').iloc[:, 1:]\n",
    "df1.index.name = None\n",
    "\n",
    "# # Take averages of identital mutations\n",
    "# row_labels = df1.index\n",
    "# df1['name'] = df1.index\n",
    "\n",
    "# df1 = (df1.groupby((df1['name'] != df1['name'].shift()).cumsum())\n",
    "#                   .mean()\n",
    "#                   .reset_index(drop=True))\n",
    "# df1.index = pd.unique(row_labels)"
   ]
  },
  {
   "cell_type": "code",
   "execution_count": null,
   "id": "7ffbe11b",
   "metadata": {},
   "outputs": [],
   "source": [
    "df1   "
   ]
  },
  {
   "cell_type": "code",
   "execution_count": null,
   "id": "3fa37835",
   "metadata": {},
   "outputs": [],
   "source": [
    "sub_df = df1[df1['chrom'].str.endswith('chr' + str(i))].iloc[:, 1:]\n",
    "\n",
    "row_labels = sub_df.index\n",
    "sub_df['name'] = sub_df.index\n",
    "sub_df = (sub_df.groupby((sub_df['name'] != sub_df['name'].shift()).cumsum())\n",
    "                  .mean()\n",
    "                  .reset_index(drop=True))\n",
    "sub_df.index = pd.unique(row_labels)"
   ]
  },
  {
   "cell_type": "code",
   "execution_count": null,
   "id": "5b238ff4",
   "metadata": {},
   "outputs": [],
   "source": [
    "df2 = sub_df.stack().reset_index().iloc[:, ::-1]\n",
    "df2.columns = ['vals', 'profiles', 'mutation']"
   ]
  },
  {
   "cell_type": "code",
   "execution_count": 4,
   "id": "7e4bcb8c",
   "metadata": {},
   "outputs": [],
   "source": [
    "def scatter_plot_vis(xlabel, ylabel, color):\n",
    "    fig = px.scatter(x = xlabel, y = ylabel, color = color)\n",
    "    fig.show()"
   ]
  },
  {
   "cell_type": "code",
   "execution_count": null,
   "id": "fe5fe16e",
   "metadata": {},
   "outputs": [],
   "source": [
    "for i in range(1):\n",
    "    sub_df = df1[df1['chrom'].str.endswith('chr' + str(i + 1))].iloc[:, 1:]\n",
    "\n",
    "    row_labels = sub_df.index\n",
    "    sub_df['name'] = sub_df.index\n",
    "    sub_df = (sub_df.groupby((sub_df['name'] != sub_df['name'].shift()).cumsum())\n",
    "                      .mean()\n",
    "                      .reset_index(drop=True))\n",
    "    sub_df.index = pd.unique(row_labels)\n",
    "    df2 = sub_df.stack().reset_index().iloc[:, ::-1]\n",
    "    df2.columns = ['vals', 'profiles', 'mutation']\n",
    "    \n",
    "    xlabel = df2['mutation'].tolist()\n",
    "    ylabel = df2['vals'].tolist()\n",
    "    color = df2['profiles'].tolist()\n",
    "    \n",
    "    fig = px.scatter(x = xlabel, y = ylabel, color = color)\n",
    "    fig.show()\n",
    "    "
   ]
  },
  {
   "cell_type": "code",
   "execution_count": null,
   "id": "229f53d6",
   "metadata": {},
   "outputs": [],
   "source": []
  }
 ],
 "metadata": {
  "kernelspec": {
   "display_name": "Python 3",
   "language": "python",
   "name": "python3"
  },
  "language_info": {
   "codemirror_mode": {
    "name": "ipython",
    "version": 3
   },
   "file_extension": ".py",
   "mimetype": "text/x-python",
   "name": "python",
   "nbconvert_exporter": "python",
   "pygments_lexer": "ipython3",
   "version": "3.6.13"
  }
 },
 "nbformat": 4,
 "nbformat_minor": 5
}
